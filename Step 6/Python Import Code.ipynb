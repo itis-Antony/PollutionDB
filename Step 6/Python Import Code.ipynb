{
 "cells": [
  {
   "cell_type": "code",
   "execution_count": 14,
   "id": "49dcba6d",
   "metadata": {},
   "outputs": [
    {
     "name": "stdout",
     "output_type": "stream",
     "text": [
      "Requirement already satisfied: pymongo in c:\\users\\anton\\anaconda3\\lib\\site-packages (4.6.3)\n",
      "Requirement already satisfied: dnspython<3.0.0,>=1.16.0 in c:\\users\\anton\\anaconda3\\lib\\site-packages (from pymongo) (2.6.1)\n"
     ]
    }
   ],
   "source": [
    "!pip install pymongo\n",
    "import csv\n",
    "from datetime import datetime\n",
    "from pymongo import MongoClient\n",
    "\n",
    "# Connect to MongoDB\n",
    "client = MongoClient('mongodb://localhost:27017/')\n",
    "db = client['air_quality']\n",
    "collection = db['readings']\n",
    "\n",
    "# Define a function to insert data for a specific monitor into MongoDB\n",
    "def insert_monitor_data_from_csv(csv_file, monitor_id):\n",
    "    with open(csv_file, 'r') as file:\n",
    "        reader = csv.DictReader(file)\n",
    "        for row in reader:\n",
    "            if int(row['Site_ID']) == monitor_id:  # Filter data for specific monitor\n",
    "                # Convert empty strings to None for all columns except 'Date_Time' and 'Site_ID'\n",
    "                record = {\n",
    "                    \"Date_Time\": datetime.strptime(row['Date_Time'], '%Y-%m-%d %H:%M:%S%z'),\n",
    "                    \"Site_ID\": int(row['Site_ID']),\n",
    "                    \"NOx\": float(row['NOx']) if row['NOx'] else None,\n",
    "                    \"NO2\": float(row['NO2']) if row['NO2'] else None,\n",
    "                    \"NO\": float(row['NO']) if row['NO'] else None,\n",
    "                    \"PM10\": float(row['PM10']) if row['PM10'] else None,\n",
    "                    \"O3\": float(row['O3']) if row['O3'] else None,\n",
    "                    \"Temperature\": float(row['Temperature']) if row['Temperature'] else None,\n",
    "                    \"NVPM10\": float(row['NVPM10']) if row['NVPM10'] else None,\n",
    "                    \"VPM10\": float(row['VPM10']) if row['VPM10'] else None,\n",
    "                    \"NVPM2_5\": float(row['NVPM2_5']) if row['NVPM2_5'] else None,\n",
    "                    \"PM2_5\": float(row['PM2_5']) if row['PM2_5'] else None,\n",
    "                    \"VPM2_5\": float(row['VPM2_5']) if row['VPM2_5'] else None,\n",
    "                    \"CO\": float(row['CO']) if row['CO'] else None,\n",
    "                    \"RH\": float(row['RH']) if row['RH'] else None,\n",
    "                    \"Pressure\": float(row['Pressure']) if row['Pressure'] else None,\n",
    "                    \"SO2\": float(row['SO2']) if row['SO2'] else None\n",
    "                }\n",
    "                collection.insert_one(record)\n",
    "\n",
    "# Call the function to insert data for monitor 501 into MongoDB\n",
    "insert_monitor_data_from_csv('cropped.csv', 501)\n"
   ]
  }
 ],
 "metadata": {
  "kernelspec": {
   "display_name": "Python 3 (ipykernel)",
   "language": "python",
   "name": "python3"
  },
  "language_info": {
   "codemirror_mode": {
    "name": "ipython",
    "version": 3
   },
   "file_extension": ".py",
   "mimetype": "text/x-python",
   "name": "python",
   "nbconvert_exporter": "python",
   "pygments_lexer": "ipython3",
   "version": "3.11.5"
  }
 },
 "nbformat": 4,
 "nbformat_minor": 5
}
